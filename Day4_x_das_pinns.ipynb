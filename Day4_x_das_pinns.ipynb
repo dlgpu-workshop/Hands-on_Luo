{
  "cells": [
    {
      "cell_type": "code",
      "source": [],
      "metadata": {
        "id": "ty58mWD1KROM"
      },
      "id": "ty58mWD1KROM",
      "execution_count": null,
      "outputs": []
    },
    {
      "cell_type": "markdown",
      "id": "a1cc726f",
      "metadata": {
        "id": "a1cc726f"
      },
      "source": [
        "# Tutorial on Physics Informed Neural Networks\n",
        "\n",
        "**Presenter:** Ronit Das\n",
        "\n"
      ]
    },
    {
      "cell_type": "markdown",
      "id": "e363db51",
      "metadata": {
        "id": "e363db51"
      },
      "source": [
        "## Introduction\n",
        "\n",
        "What are PINNs?\n",
        "\n",
        "- PINNs are Neural Networks used to learn a generic function $f$.\n",
        "- Like standard NNs, PINNs account for observation data $\\{ x_i \\}_{i=1}^N$ in learning $f$.\n",
        "- In addition, the optimization of $f$ is guided by a regularization term, which encourages $f$ to be the solution of a Partial Differential Equation (PDE)."
      ]
    },
    {
      "cell_type": "markdown",
      "id": "cffd09a7",
      "metadata": {
        "id": "cffd09a7"
      },
      "source": [
        "### Traditional PDE solvers\n",
        "\n",
        "- Simple problems can be solved analytically.\n",
        "- E.g., consider the velocity:\n",
        "\n",
        "$$v(t) = \\frac{d x}{d t} = \\lim_{h \\rightarrow 0} \\frac{x(t+h) - x(t)}{h}$$\n",
        "\n",
        "<img src=\"https://github.com/FilippoMB/Physics-Informed-Neural-Networks-tutorial/blob/main/figs/simple_pde.png?raw=1\" style=\"width: 40%; display: block; margin: auto;\">\n",
        "\n",
        "- Solution:\n",
        "\n",
        "$$\n",
        "v(t) =\n",
        "\\begin{cases}\n",
        "3/2 & \\text{if}\\; t \\in \\{ 0, 2 \\} \\\\\n",
        "0 & \\text{if}\\; t \\in \\{ 2, 4 \\} \\\\\n",
        "-1/3 & \\text{if}\\; t \\in \\{ 4, 7 \\}\n",
        "\\end{cases}\n",
        "$$"
      ]
    },
    {
      "cell_type": "markdown",
      "id": "08b1c65b",
      "metadata": {
        "id": "08b1c65b"
      },
      "source": [
        "\n",
        "\n",
        "- In most real-world problems solutions cannot be found analytically.\n",
        "- Differential equations are solved numerically.\n",
        "- E.g., they apply the definition of derivative for *all* the point of the time domain."
      ]
    },
    {
      "cell_type": "code",
      "source": [],
      "metadata": {
        "id": "NVyb09rx-gWr"
      },
      "id": "NVyb09rx-gWr",
      "execution_count": null,
      "outputs": []
    },
    {
      "cell_type": "markdown",
      "id": "45aec619",
      "metadata": {
        "id": "45aec619"
      },
      "source": [
        "**Limitations of PDE solvers**\n",
        "\n",
        "- Computationally expensive and scale bad to big data.\n",
        "- Integrating external data sources (e.g., from sensors) is problematic."
      ]
    },
    {
      "cell_type": "markdown",
      "id": "6ee24fff",
      "metadata": {
        "id": "6ee24fff"
      },
      "source": [
        "## Neural Networks\n",
        "\n",
        "<img src=\"https://github.com/FilippoMB/Physics-Informed-Neural-Networks-tutorial/blob/main/figs/hhgneural_net.png?raw=1\" style=\"width: 40%; display: block; margin: auto;\">\n",
        "\n",
        "- Universal function approximators.\n",
        "- Can consume any kind of data $\\boldsymbol{X}$.\n",
        "- Are trained to minimize a loss, e.g., the error between the predictions $\\boldsymbol{\\hat{y}}$ and the desired outputs $\\boldsymbol{y}$."
      ]
    },
    {
      "cell_type": "code",
      "execution_count": 1,
      "id": "bf86ecd0",
      "metadata": {
        "run_control": {
          "marked": false
        },
        "id": "bf86ecd0"
      },
      "outputs": [],
      "source": [
        "# Imports\n",
        "import torch\n",
        "from torch import nn\n",
        "import numpy as np\n",
        "from scipy.integrate import solve_ivp\n",
        "import matplotlib.pyplot as plt\n",
        "from matplotlib import cm"
      ]
    },
    {
      "cell_type": "markdown",
      "id": "82760add",
      "metadata": {
        "id": "82760add"
      },
      "source": [
        "Let's start by creating a simple neural network in <a href=\"https://pytorch.org\"><b>PyTorch</b></a>."
      ]
    },
    {
      "cell_type": "code",
      "execution_count": 2,
      "id": "980ee1b5",
      "metadata": {
        "run_control": {
          "marked": false
        },
        "id": "980ee1b5"
      },
      "outputs": [],
      "source": [
        "# Define a simple neural network for regression\n",
        "\n",
        "class simple_NN(nn.Module):\n",
        "    def __init__(self):\n",
        "        super(simple_NN, self).__init__()\n",
        "        self.linear_tanh_stack = nn.Sequential(\n",
        "            nn.Linear(1, 8),\n",
        "            nn.Tanh(),\n",
        "            nn.Linear(8, 16),\n",
        "            nn.Tanh(),\n",
        "            nn.Linear(16, 4),\n",
        "            nn.Tanh(),\n",
        "            nn.Linear(4, 1),\n",
        "            #nn.Sigmoid()     --------------> uncomment for answering Question 2\n",
        "        )\n",
        "\n",
        "    def forward(self, x):\n",
        "        out = self.linear_tanh_stack(x)\n",
        "        return out"
      ]
    },
    {
      "cell_type": "markdown",
      "id": "a908a777",
      "metadata": {
        "id": "a908a777"
      },
      "source": [
        "Then,\n",
        "- Create a small dataset $\\{x_i, y_i\\}_{i=1, \\dots 5}$.\n",
        "- Use the NN to make predictions: $\\hat{y}_i = \\rm{NN}(x_i)$.\n",
        "- Train the NN by minimizing $\\rm{MSE}(\\boldsymbol{y}, \\boldsymbol{\\hat{y}})$."
      ]
    },
    {
      "cell_type": "code",
      "execution_count": 3,
      "id": "3a554192",
      "metadata": {
        "run_control": {
          "marked": false
        },
        "id": "3a554192"
      },
      "outputs": [],
      "source": [
        "# Define dataset\n",
        "x_train = torch.tensor([[1.1437e-04],\n",
        "        [1.4676e-01],\n",
        "        [3.0233e-01],\n",
        "        [4.1702e-01],\n",
        "        [7.2032e-01]], dtype=torch.float32)\n",
        "y_train = torch.tensor([[1.0000],\n",
        "        [1.0141],\n",
        "        [1.0456],\n",
        "        [1.0753],\n",
        "        [1.1565]], dtype=torch.float32)"
      ]
    },
    {
      "cell_type": "code",
      "execution_count": 4,
      "id": "6d76616a",
      "metadata": {
        "run_control": {
          "marked": false
        },
        "id": "6d76616a",
        "outputId": "dd044e6b-5c85-409b-e003-895914cf6864",
        "colab": {
          "base_uri": "https://localhost:8080/"
        }
      },
      "outputs": [
        {
          "output_type": "stream",
          "name": "stdout",
          "text": [
            "epoch: 0, loss: 1.244831\n",
            "epoch: 200, loss: 0.000475\n",
            "epoch: 400, loss: 0.000319\n",
            "epoch: 600, loss: 0.000200\n",
            "epoch: 800, loss: 0.000100\n"
          ]
        }
      ],
      "source": [
        "# Initialize the model\n",
        "model = simple_NN()\n",
        "\n",
        "# define loss and optimizer\n",
        "loss_fn = nn.MSELoss()\n",
        "optimizer = torch.optim.Adam(model.parameters(), lr=1e-2)\n",
        "\n",
        "EPOCHS = 1000\n",
        "\n",
        "# Train\n",
        "for ep in range(EPOCHS):\n",
        "\n",
        "    # Compute prediction error\n",
        "    pred = model(x_train)\n",
        "    loss = loss_fn(pred, y_train)\n",
        "\n",
        "    # Backpropagation\n",
        "    optimizer.zero_grad()\n",
        "    loss.backward()\n",
        "    optimizer.step()\n",
        "\n",
        "    if ep % 200 == 0:\n",
        "        print(f\"epoch: {ep}, loss: {loss.item():>7f}\")"
      ]
    },
    {
      "cell_type": "code",
      "execution_count": 5,
      "id": "aa4644a4",
      "metadata": {
        "run_control": {
          "marked": false
        },
        "id": "aa4644a4",
        "outputId": "1df3e74c-4c4c-4105-b560-cb7b9cab3784",
        "colab": {
          "base_uri": "https://localhost:8080/",
          "height": 487
        }
      },
      "outputs": [
        {
          "output_type": "display_data",
          "data": {
            "text/plain": [
              "<Figure size 1200x500 with 1 Axes>"
            ],
            "image/png": "[encoded data removed]"
          },
          "metadata": {}
        }
      ],
      "source": [
        "# evaluate the model on all data points in the domain\n",
        "domain = [0.0, 1.5]\n",
        "#domain = [0.0, 1.0]    ------------------> uncomment for answering question 2\n",
        "x_eval = torch.linspace(domain[0], domain[1], steps=100).reshape(-1, 1)\n",
        "f_eval = model(x_eval)\n",
        "\n",
        "# plotting\n",
        "fig, ax = plt.subplots(figsize=(12, 5))\n",
        "ax.scatter(x_train.detach().numpy(), y_train.detach().numpy(), label=\"Training data\", color=\"blue\")\n",
        "ax.plot(x_eval.detach().numpy(), f_eval.detach().numpy(), label=\"NN approximation\", color=\"black\")\n",
        "ax.set(title=\"Neural Network Regression\", xlabel=\"$x$\", ylabel=\"$y$\")\n",
        "ax.legend();"
      ]
    },
    {
      "cell_type": "markdown",
      "id": "ce277406",
      "metadata": {
        "id": "ce277406"
      },
      "source": [
        "- The NN does a good job in fitting the data samples.\n",
        "- However, it has no information on what function should learn when $x>0.75$."
      ]
    },
    {
      "cell_type": "markdown",
      "id": "cd3a8bf4",
      "metadata": {
        "id": "cd3a8bf4"
      },
      "source": [
        "## Physics Informed NNs\n",
        "\n",
        "- Use PDEs to adjust the NN output.\n",
        "- Train the model with an additional loss that penalizes the violation of the PDE.\n",
        "\n",
        "$$ \\mathcal{L}_{\\text{tot}} =  \\mathcal{L}_{\\text{data}} + \\mathcal{L}_{\\text{PDE}}$$\n",
        "\n"
      ]
    },
    {
      "cell_type": "markdown",
      "id": "4ad6a57a",
      "metadata": {
        "id": "4ad6a57a"
      },
      "source": [
        "**Advantages**\n",
        "\n",
        "Combine information from both data and from physical models.\n",
        "- Compared to traditional NNs, $\\mathcal{L}_{\\text{PDE}}$ regularizes the model limiting overfitting and improving generalization.\n",
        "- Compared to traiditional PDE solvers, PINNs are more scalable and can consume any kind of data."
      ]
    },
    {
      "cell_type": "markdown",
      "id": "a7379c57",
      "metadata": {
        "id": "a7379c57"
      },
      "source": [
        "### Example I: population growth\n",
        "\n",
        "Logistic equation for modeling the population growth:\n",
        "\n",
        "$$ \\frac{d f(t)}{d t} = Rt(1-t)$$\n",
        "\n",
        "- $f(t)$ is the population growth over time $t$\n",
        "- $R$ is the max growth rate\n",
        "- To identify a solution, a boundary condition must be imposed, e.g., at $t=0$:\n",
        "\n",
        "$$f(t=0)=1$$"
      ]
    },
    {
      "cell_type": "code",
      "execution_count": 6,
      "id": "b8b0ee7a",
      "metadata": {
        "run_control": {
          "marked": false
        },
        "id": "b8b0ee7a"
      },
      "outputs": [],
      "source": [
        "R = 1.0\n",
        "ft0 = 1.0"
      ]
    },
    {
      "cell_type": "markdown",
      "id": "7c6782f4",
      "metadata": {
        "id": "7c6782f4"
      },
      "source": [
        "- Use the NN to model $f(t)$, i.e., $f(t) = \\rm{NN}(t)$\n",
        "- We can easily compute the derivative $\\frac{d\\rm{NN}(t)}{dt}$ thanks to automatic differentiation provided by deep learning libraries\n"
      ]
    },
    {
      "cell_type": "code",
      "execution_count": 7,
      "id": "308d79c8",
      "metadata": {
        "run_control": {
          "marked": false
        },
        "id": "308d79c8"
      },
      "outputs": [],
      "source": [
        "def df(f: simple_NN, x: torch.Tensor = None, order: int = 1) -> torch.Tensor:\n",
        "    \"\"\"Compute neural network derivative with respect to input features using PyTorch autograd engine\"\"\"\n",
        "    df_value = f(x)\n",
        "    for _ in range(order):\n",
        "        df_value = torch.autograd.grad(\n",
        "            df_value,\n",
        "            x,\n",
        "            grad_outputs=torch.ones_like(x),\n",
        "            create_graph=True,\n",
        "            retain_graph=True,\n",
        "        )[0]\n",
        "\n",
        "    return df_value"
      ]
    },
    {
      "cell_type": "markdown",
      "id": "46db65df",
      "metadata": {
        "id": "46db65df"
      },
      "source": [
        "- We want our NN to satisfy the following equation:\n",
        "\n",
        "$$ \\frac{d\\rm{NN}(t)}{dt} - Rt(1-t) = 0 $$\n",
        "\n",
        "- To do that, we add the following physics-informed regularization term to the loss:\n",
        "\n",
        "$$ \\mathcal{L}_\\rm{PDE} = \\frac{1}{N} \\sum_{i=1}^N \\left( \\frac{d\\rm{NN}}{dt} \\bigg\\rvert_{t_i} - R t_i (1-t_i) \\right)^2 $$\n",
        "\n",
        "- where $t_i$ are **collocation points**, i.e., a set of points from the domain where we evaluate the differential equation."
      ]
    },
    {
      "cell_type": "code",
      "execution_count": 8,
      "id": "f7b2db5f",
      "metadata": {
        "run_control": {
          "marked": false
        },
        "id": "f7b2db5f"
      },
      "outputs": [],
      "source": [
        "# Generate 10 evenly distributed collocation points\n",
        "t = torch.linspace(domain[0], domain[1], steps=10, requires_grad=True).reshape(-1, 1)"
      ]
    },
    {
      "cell_type": "markdown",
      "id": "0babb74f",
      "metadata": {
        "id": "0babb74f"
      },
      "source": [
        "- Only minimizing $\\mathcal{L}_\\rm{PDE}$ does not ensure a unique solution.\n",
        "- We must include the boundary condition by adding the following loss:\n",
        "\n",
        "$$ \\mathcal{L}_\\rm{BC} = \\left( \\rm{NN}(t_0) - 1 \\right)^2 $$\n",
        "\n",
        "- This lets the NN converge to the desired solution among the infinite possible ones."
      ]
    },
    {
      "cell_type": "markdown",
      "id": "3de1ccf0",
      "metadata": {
        "id": "3de1ccf0"
      },
      "source": [
        "The final loss is given by:\n",
        "\n",
        "$$ \\mathcal{L}_\\rm{PDE} + \\mathcal{L}_\\rm{BC} + \\mathcal{L}_\\rm{data} $$"
      ]
    },
    {
      "cell_type": "code",
      "execution_count": 9,
      "id": "66cb667d",
      "metadata": {
        "run_control": {
          "marked": false
        },
        "id": "66cb667d"
      },
      "outputs": [],
      "source": [
        "# Wrap everything into a function\n",
        "def compute_loss(nn: simple_NN,\n",
        "                 t: torch.Tensor = None,\n",
        "                 x: torch.Tensor = None,\n",
        "                 y: torch.Tensor = None,\n",
        "                 ) -> torch.float:\n",
        "    \"\"\"Compute the full loss function as pde loss + boundary loss\n",
        "    This custom loss function is fully defined with differentiable tensors therefore\n",
        "    the .backward() method can be applied to it\n",
        "    \"\"\"\n",
        "\n",
        "    pde_loss = df(nn, t) - R * t * (1 - t)\n",
        "    pde_loss = pde_loss.pow(2).mean()\n",
        "\n",
        "    boundary = torch.Tensor([0.0])\n",
        "    boundary.requires_grad = True\n",
        "    bc_loss = nn(boundary) - ft0\n",
        "    bc_loss = bc_loss.pow(2)\n",
        "\n",
        "    mse_loss = torch.nn.MSELoss()(nn(x), y)\n",
        "\n",
        "    tot_loss = pde_loss + bc_loss + mse_loss\n",
        "\n",
        "    return tot_loss"
      ]
    },
    {
      "cell_type": "code",
      "execution_count": 11,
      "id": "e4655d8b",
      "metadata": {
        "run_control": {
          "marked": false
        },
        "scrolled": false,
        "id": "e4655d8b",
        "outputId": "87ca533f-9183-42f0-b11c-ef5741fb2505",
        "colab": {
          "base_uri": "https://localhost:8080/"
        }
      },
      "outputs": [
        {
          "output_type": "stream",
          "name": "stdout",
          "text": [
            "epoch: 0, loss: 1.867165\n",
            "epoch: 200, loss: 0.001326\n",
            "epoch: 400, loss: 0.000745\n",
            "epoch: 600, loss: 0.000458\n",
            "epoch: 800, loss: 0.000234\n",
            "epoch: 1000, loss: 0.000123\n",
            "epoch: 1200, loss: 0.000101\n",
            "epoch: 1400, loss: 0.000093\n",
            "epoch: 1600, loss: 0.000088\n",
            "epoch: 1800, loss: 0.000085\n"
          ]
        }
      ],
      "source": [
        "model = simple_NN()\n",
        "optimizer = torch.optim.Adam(model.parameters(), lr=1e-2)\n",
        "\n",
        "EPOCHS_2 = 2000\n",
        "\n",
        "# Train\n",
        "for ep in range(EPOCHS_2):\n",
        "\n",
        "    loss = compute_loss(model, t, x_train, y_train)\n",
        "\n",
        "    # Backpropagation\n",
        "    optimizer.zero_grad()\n",
        "    loss.backward()\n",
        "    optimizer.step()\n",
        "\n",
        "    if ep % 200 == 0:\n",
        "        print(f\"epoch: {ep}, loss: {loss.item():>7f}\")"
      ]
    },
    {
      "cell_type": "code",
      "execution_count": 12,
      "id": "c4ed19a2",
      "metadata": {
        "run_control": {
          "marked": false
        },
        "id": "c4ed19a2"
      },
      "outputs": [],
      "source": [
        "# numeric solution\n",
        "def logistic_eq_fn(x, y):\n",
        "    return R * x * (1 - x)\n",
        "\n",
        "numeric_solution = solve_ivp(\n",
        "    logistic_eq_fn, domain, [ft0], t_eval=x_eval.squeeze().detach().numpy()\n",
        ")\n",
        "\n",
        "f_colloc = solve_ivp(\n",
        "    logistic_eq_fn, domain, [ft0], t_eval=t.squeeze().detach().numpy()\n",
        ").y.T"
      ]
    },
    {
      "cell_type": "code",
      "execution_count": 13,
      "id": "705c3b81",
      "metadata": {
        "run_control": {
          "marked": false
        },
        "id": "705c3b81",
        "outputId": "4fe642bb-262c-4abc-9d90-919ad2d82f58",
        "colab": {
          "base_uri": "https://localhost:8080/",
          "height": 487
        }
      },
      "outputs": [
        {
          "output_type": "display_data",
          "data": {
            "text/plain": [
              "<Figure size 1200x500 with 1 Axes>"
            ],
            "image/png": "[encoded data removed]"
          },
          "metadata": {}
        }
      ],
      "source": [
        "# evaluation on the domain [0, 1.5]\n",
        "f_eval = model(x_eval)\n",
        "\n",
        "# plotting\n",
        "fig, ax = plt.subplots(figsize=(12, 5))\n",
        "ax.scatter(t.detach().numpy(), f_colloc, label=\"Collocation points\", color=\"magenta\", alpha=0.75)\n",
        "ax.scatter(x_train.detach().numpy(), y_train.detach().numpy(), label=\"Observation data\", color=\"blue\")\n",
        "ax.plot(x_eval.detach().numpy(), f_eval.detach().numpy(), label=\"NN solution\", color=\"black\")\n",
        "ax.plot(x_eval.detach().numpy(), numeric_solution.y.T,\n",
        "        label=\"Analytic solution\", color=\"magenta\", alpha=0.75)\n",
        "ax.set(title=\"Logistic equation solved with NNs\", xlabel=\"t\", ylabel=\"f(t)\")\n",
        "ax.legend();"
      ]
    },
    {
      "cell_type": "markdown",
      "source": [
        "### Questions\n",
        "\n",
        "1. Play around this PINN with the following number of epochs:\n",
        "  a. 500\n",
        "  b. 1500\n",
        "  c. 3000\n",
        "  d. 5000\n",
        "  What's your observation?\n",
        "\n",
        "2. Try replacing the MSE Loss with other objective function. Let's say using the CrossEntropy Loss. You can replace \"torch.nn.MSELoss()(nn(x), y)\" with \"torch.nn.CrossEntropyLoss()(nn(x), y)\". What's your observation?\n",
        "3. Comment out the MSE Loss only. Observe what you see with training only with the PDE and the BC Objective."
      ],
      "metadata": {
        "id": "oDL9aHd1lOF1"
      },
      "id": "oDL9aHd1lOF1"
    },
    {
      "cell_type": "code",
      "source": [],
      "metadata": {
        "id": "LaeVNL2ZlEk4"
      },
      "id": "LaeVNL2ZlEk4",
      "execution_count": null,
      "outputs": []
    },
    {
      "cell_type": "code",
      "source": [],
      "metadata": {
        "id": "zquqSJUylEwF"
      },
      "id": "zquqSJUylEwF",
      "execution_count": null,
      "outputs": []
    },
    {
      "cell_type": "code",
      "source": [],
      "metadata": {
        "id": "yIT-peCWlE6H"
      },
      "id": "yIT-peCWlE6H",
      "execution_count": null,
      "outputs": []
    },
    {
      "cell_type": "code",
      "source": [],
      "metadata": {
        "id": "Qrkyeml7lFDw"
      },
      "id": "Qrkyeml7lFDw",
      "execution_count": null,
      "outputs": []
    },
    {
      "cell_type": "markdown",
      "id": "c0e47416",
      "metadata": {
        "id": "c0e47416"
      },
      "source": []
    },
    {
      "cell_type": "markdown",
      "source": [],
      "metadata": {
        "id": "EgYmQAEoj_qi"
      },
      "id": "EgYmQAEoj_qi"
    },
    {
      "cell_type": "markdown",
      "id": "49a91deb",
      "metadata": {
        "id": "49a91deb"
      },
      "source": [
        "## References\n",
        "\n",
        "[[1](https://www.sciencedirect.com/science/article/pii/S0021999118307125)] Raissi, Maziar, Paris Perdikaris, and George E. Karniadakis. \"Physics-informed neural networks: A deep learning framework for solving forward and inverse problems involving nonlinear partial differential equations.\" Journal of Computational physics 378 (2019): 686-707.\n",
        "\n",
        "[[2](https://maziarraissi.github.io/PINNs/)] Raissi, Maziar, Paris Perdikaris, and George E. Karniadakis. \"Physics Informed Deep Learning\".\n",
        "\n",
        "[[3](https://www.sciencedirect.com/science/article/pii/S095219762030292X)] Nascimento, R. G., Fricke, K., & Viana, F. A. (2020). A tutorial on solving ordinary differential equations using Python and hybrid physics-informed neural network. Engineering Applications of Artificial Intelligence, 96, 103996.\n",
        "\n",
        "\n",
        "[[5](https://towardsdatascience.com/physics-and-artificial-intelligence-introduction-to-physics-informed-neural-networks-24548438f2d5)] Paialunga Piero. \"Physics and Artificial Intelligence: Introduction to Physics Informed Neural Networks\".\n",
        "\n"
      ]
    }
  ],
  "metadata": {
    "celltoolbar": "Slideshow",
    "kernelspec": {
      "display_name": "Python 3 (ipykernel)",
      "language": "python",
      "name": "python3"
    },
    "language_info": {
      "codemirror_mode": {
        "name": "ipython",
        "version": 3
      },
      "file_extension": ".py",
      "mimetype": "text/x-python",
      "name": "python",
      "nbconvert_exporter": "python",
      "pygments_lexer": "ipython3",
      "version": "3.11.8"
    },
    "toc": {
      "base_numbering": 1,
      "nav_menu": {},
      "number_sections": false,
      "sideBar": true,
      "skip_h1_title": false,
      "title_cell": "Table of Contents",
      "title_sidebar": "Contents",
      "toc_cell": false,
      "toc_position": {},
      "toc_section_display": true,
      "toc_window_display": false
    },
    "varInspector": {
      "cols": {
        "lenName": 16,
        "lenType": 16,
        "lenVar": 40
      },
      "kernels_config": {
        "python": {
          "delete_cmd_postfix": "",
          "delete_cmd_prefix": "del ",
          "library": "var_list.py",
          "varRefreshCmd": "print(var_dic_list())"
        },
        "r": {
          "delete_cmd_postfix": ") ",
          "delete_cmd_prefix": "rm(",
          "library": "var_list.r",
          "varRefreshCmd": "cat(var_dic_list()) "
        }
      },
      "types_to_exclude": [
        "module",
        "function",
        "builtin_function_or_method",
        "instance",
        "_Feature"
      ],
      "window_display": false
    },
    "colab": {
      "provenance": []
    }
  },
  "nbformat": 4,
  "nbformat_minor": 5
}